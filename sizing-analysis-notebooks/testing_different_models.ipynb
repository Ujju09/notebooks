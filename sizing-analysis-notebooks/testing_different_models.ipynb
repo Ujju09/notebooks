{
 "cells": [
  {
   "cell_type": "code",
   "execution_count": 3,
   "metadata": {},
   "outputs": [],
   "source": [
    "import numpy as np\n",
    "import pandas as pd\n",
    "import seaborn as sns\n",
    "import matplotlib.pyplot as plt"
   ]
  },
  {
   "cell_type": "code",
   "execution_count": 4,
   "metadata": {},
   "outputs": [
    {
     "name": "stderr",
     "output_type": "stream",
     "text": [
      "/var/folders/1n/jx1cq0bx301bmmtgw78690fm0000gn/T/ipykernel_22088/298395217.py:1: DtypeWarning: Columns (61) have mixed types. Specify dtype option on import or set low_memory=False.\n",
      "  jeans = pd.read_csv('../datasets/jeans_measurements.csv')\n"
     ]
    },
    {
     "data": {
      "text/html": [
       "<div>\n",
       "<style scoped>\n",
       "    .dataframe tbody tr th:only-of-type {\n",
       "        vertical-align: middle;\n",
       "    }\n",
       "\n",
       "    .dataframe tbody tr th {\n",
       "        vertical-align: top;\n",
       "    }\n",
       "\n",
       "    .dataframe thead th {\n",
       "        text-align: right;\n",
       "    }\n",
       "</style>\n",
       "<table border=\"1\" class=\"dataframe\">\n",
       "  <thead>\n",
       "    <tr style=\"text-align: right;\">\n",
       "      <th></th>\n",
       "      <th>id</th>\n",
       "      <th>ean_no</th>\n",
       "      <th>gender</th>\n",
       "      <th>collection</th>\n",
       "      <th>cat</th>\n",
       "      <th>style_no</th>\n",
       "      <th>pocket_bag_print</th>\n",
       "      <th>waist_band_print</th>\n",
       "      <th>pocket_arquette</th>\n",
       "      <th>closure</th>\n",
       "      <th>...</th>\n",
       "      <th>washcarePrint_date</th>\n",
       "      <th>washcare_username</th>\n",
       "      <th>barcode_print</th>\n",
       "      <th>barcode_username</th>\n",
       "      <th>barcode_print_date</th>\n",
       "      <th>remarks</th>\n",
       "      <th>barcode_no</th>\n",
       "      <th>description</th>\n",
       "      <th>created_at</th>\n",
       "      <th>updated_at</th>\n",
       "    </tr>\n",
       "  </thead>\n",
       "  <tbody>\n",
       "    <tr>\n",
       "      <th>0</th>\n",
       "      <td>1</td>\n",
       "      <td>9111001018005</td>\n",
       "      <td>M</td>\n",
       "      <td>TP</td>\n",
       "      <td>BO</td>\n",
       "      <td>UNTPMBO1018005</td>\n",
       "      <td>No</td>\n",
       "      <td>No</td>\n",
       "      <td>Yes</td>\n",
       "      <td>Zipper</td>\n",
       "      <td>...</td>\n",
       "      <td>2023-09-16 04:51:18</td>\n",
       "      <td>washcare_print</td>\n",
       "      <td>YES</td>\n",
       "      <td>pooja@un</td>\n",
       "      <td>2023-08-28 06:34:26</td>\n",
       "      <td>NaN</td>\n",
       "      <td>NaN</td>\n",
       "      <td>Men's black jeans that sit comfortably at the ...</td>\n",
       "      <td>2023-04-19 07:28:17</td>\n",
       "      <td>2023-04-19 09:09:29</td>\n",
       "    </tr>\n",
       "    <tr>\n",
       "      <th>1</th>\n",
       "      <td>2</td>\n",
       "      <td>9111001020019</td>\n",
       "      <td>M</td>\n",
       "      <td>TP</td>\n",
       "      <td>BO</td>\n",
       "      <td>UNTPMBO1020019</td>\n",
       "      <td>No</td>\n",
       "      <td>No</td>\n",
       "      <td>Yes</td>\n",
       "      <td>Zipper</td>\n",
       "      <td>...</td>\n",
       "      <td>2023-07-05 09:43:04</td>\n",
       "      <td>washcare_print</td>\n",
       "      <td>YES</td>\n",
       "      <td>pooja@un</td>\n",
       "      <td>2023-08-24 11:08:49</td>\n",
       "      <td>NaN</td>\n",
       "      <td>NaN</td>\n",
       "      <td>Men's light indigo jeans that sit low on waist...</td>\n",
       "      <td>2023-04-19 07:32:37</td>\n",
       "      <td>2023-04-19 09:27:36</td>\n",
       "    </tr>\n",
       "    <tr>\n",
       "      <th>2</th>\n",
       "      <td>3</td>\n",
       "      <td>9111001018077</td>\n",
       "      <td>M</td>\n",
       "      <td>TP</td>\n",
       "      <td>BO</td>\n",
       "      <td>UNTPMBO1018077</td>\n",
       "      <td>No</td>\n",
       "      <td>No</td>\n",
       "      <td>No</td>\n",
       "      <td>Zipper</td>\n",
       "      <td>...</td>\n",
       "      <td>2023-05-03 08:05:37</td>\n",
       "      <td>NaN</td>\n",
       "      <td>NaN</td>\n",
       "      <td>NaN</td>\n",
       "      <td>NaN</td>\n",
       "      <td>NaN</td>\n",
       "      <td>NaN</td>\n",
       "      <td>Men's mid indigo jeans that sit comfortably at...</td>\n",
       "      <td>2023-04-19 07:36:50</td>\n",
       "      <td>2023-04-19 09:30:24</td>\n",
       "    </tr>\n",
       "    <tr>\n",
       "      <th>3</th>\n",
       "      <td>4</td>\n",
       "      <td>9111001019055</td>\n",
       "      <td>M</td>\n",
       "      <td>TP</td>\n",
       "      <td>BO</td>\n",
       "      <td>UNTPMBO1019055</td>\n",
       "      <td>Yes</td>\n",
       "      <td>No</td>\n",
       "      <td>Yes</td>\n",
       "      <td>Zipper</td>\n",
       "      <td>...</td>\n",
       "      <td>2023-05-03 08:54:38</td>\n",
       "      <td>NaN</td>\n",
       "      <td>YES</td>\n",
       "      <td>pooja@un</td>\n",
       "      <td>2023-08-24 10:15:50</td>\n",
       "      <td>NaN</td>\n",
       "      <td>NaN</td>\n",
       "      <td>Men's mid indigo jeans that sit comfortably at...</td>\n",
       "      <td>2023-04-19 07:39:37</td>\n",
       "      <td>2023-04-19 09:32:20</td>\n",
       "    </tr>\n",
       "    <tr>\n",
       "      <th>4</th>\n",
       "      <td>5</td>\n",
       "      <td>9111001019003</td>\n",
       "      <td>M</td>\n",
       "      <td>TP</td>\n",
       "      <td>BO</td>\n",
       "      <td>UNTPMBO1019003</td>\n",
       "      <td>Yes</td>\n",
       "      <td>Yes</td>\n",
       "      <td>No</td>\n",
       "      <td>Zipper</td>\n",
       "      <td>...</td>\n",
       "      <td>2023-05-03 07:14:05</td>\n",
       "      <td>NaN</td>\n",
       "      <td>NaN</td>\n",
       "      <td>NaN</td>\n",
       "      <td>NaN</td>\n",
       "      <td>NaN</td>\n",
       "      <td>NaN</td>\n",
       "      <td>Men's dark indigo jeans that sit comfortably a...</td>\n",
       "      <td>2023-04-19 07:42:47</td>\n",
       "      <td>2023-04-19 09:33:52</td>\n",
       "    </tr>\n",
       "  </tbody>\n",
       "</table>\n",
       "<p>5 rows × 66 columns</p>\n",
       "</div>"
      ],
      "text/plain": [
       "   id         ean_no gender collection cat        style_no pocket_bag_print  \\\n",
       "0   1  9111001018005      M         TP  BO  UNTPMBO1018005               No   \n",
       "1   2  9111001020019      M         TP  BO  UNTPMBO1020019               No   \n",
       "2   3  9111001018077      M         TP  BO  UNTPMBO1018077               No   \n",
       "3   4  9111001019055      M         TP  BO  UNTPMBO1019055              Yes   \n",
       "4   5  9111001019003      M         TP  BO  UNTPMBO1019003              Yes   \n",
       "\n",
       "  waist_band_print pocket_arquette closure  ...   washcarePrint_date  \\\n",
       "0               No             Yes  Zipper  ...  2023-09-16 04:51:18   \n",
       "1               No             Yes  Zipper  ...  2023-07-05 09:43:04   \n",
       "2               No              No  Zipper  ...  2023-05-03 08:05:37   \n",
       "3               No             Yes  Zipper  ...  2023-05-03 08:54:38   \n",
       "4              Yes              No  Zipper  ...  2023-05-03 07:14:05   \n",
       "\n",
       "   washcare_username  barcode_print  barcode_username   barcode_print_date  \\\n",
       "0     washcare_print            YES          pooja@un  2023-08-28 06:34:26   \n",
       "1     washcare_print            YES          pooja@un  2023-08-24 11:08:49   \n",
       "2                NaN            NaN               NaN                  NaN   \n",
       "3                NaN            YES          pooja@un  2023-08-24 10:15:50   \n",
       "4                NaN            NaN               NaN                  NaN   \n",
       "\n",
       "  remarks  barcode_no                                        description  \\\n",
       "0     NaN         NaN  Men's black jeans that sit comfortably at the ...   \n",
       "1     NaN         NaN  Men's light indigo jeans that sit low on waist...   \n",
       "2     NaN         NaN  Men's mid indigo jeans that sit comfortably at...   \n",
       "3     NaN         NaN  Men's mid indigo jeans that sit comfortably at...   \n",
       "4     NaN         NaN  Men's dark indigo jeans that sit comfortably a...   \n",
       "\n",
       "            created_at           updated_at  \n",
       "0  2023-04-19 07:28:17  2023-04-19 09:09:29  \n",
       "1  2023-04-19 07:32:37  2023-04-19 09:27:36  \n",
       "2  2023-04-19 07:36:50  2023-04-19 09:30:24  \n",
       "3  2023-04-19 07:39:37  2023-04-19 09:32:20  \n",
       "4  2023-04-19 07:42:47  2023-04-19 09:33:52  \n",
       "\n",
       "[5 rows x 66 columns]"
      ]
     },
     "execution_count": 4,
     "metadata": {},
     "output_type": "execute_result"
    }
   ],
   "source": [
    "jeans = pd.read_csv('../datasets/jeans_measurements.csv')\n",
    "jeans.head()"
   ]
  },
  {
   "cell_type": "code",
   "execution_count": 5,
   "metadata": {},
   "outputs": [
    {
     "data": {
      "text/plain": [
       "(10931, 66)"
      ]
     },
     "execution_count": 5,
     "metadata": {},
     "output_type": "execute_result"
    }
   ],
   "source": [
    "#Shape of the dataset\n",
    "jeans.shape"
   ]
  },
  {
   "cell_type": "code",
   "execution_count": 6,
   "metadata": {},
   "outputs": [
    {
     "data": {
      "text/plain": [
       "array(['Slim', 'Bootcut', 'Straight', 'Skinny', 'Mom Fit', 'Boyfriend',\n",
       "       'Wide Legged', 'Baggy', 'Jogger', nan], dtype=object)"
      ]
     },
     "execution_count": 6,
     "metadata": {},
     "output_type": "execute_result"
    }
   ],
   "source": [
    "# Unique fits\n",
    "jeans['fit'].unique()"
   ]
  },
  {
   "cell_type": "code",
   "execution_count": 7,
   "metadata": {},
   "outputs": [
    {
     "data": {
      "text/plain": [
       "fit\n",
       "Straight       3070\n",
       "Bootcut        2998\n",
       "Slim           2529\n",
       "Skinny          854\n",
       "Mom Fit         596\n",
       "Baggy           236\n",
       "Wide Legged      99\n",
       "Boyfriend        34\n",
       "Jogger           17\n",
       "Name: count, dtype: int64"
      ]
     },
     "execution_count": 7,
     "metadata": {},
     "output_type": "execute_result"
    }
   ],
   "source": [
    "# Counts of each fit\n",
    "jeans['fit'].value_counts()"
   ]
  },
  {
   "cell_type": "markdown",
   "metadata": {},
   "source": [
    "The dataset is heavily skewed towards Straight, Bootcut and Slim fits. "
   ]
  },
  {
   "cell_type": "code",
   "execution_count": 8,
   "metadata": {},
   "outputs": [
    {
     "data": {
      "text/plain": [
       "<Axes: xlabel='fit', ylabel='count'>"
      ]
     },
     "execution_count": 8,
     "metadata": {},
     "output_type": "execute_result"
    },
    {
     "data": {
      "image/png": "[encoded data removed]",
      "text/plain": [
       "<Figure size 640x480 with 1 Axes>"
      ]
     },
     "metadata": {},
     "output_type": "display_data"
    }
   ],
   "source": [
    "# add figsize to make it bigger\n",
    "sns.countplot(x='fit', data=jeans, palette='Set1')"
   ]
  },
  {
   "cell_type": "code",
   "execution_count": 9,
   "metadata": {},
   "outputs": [
    {
     "data": {
      "text/plain": [
       "gender\n",
       "W    8619\n",
       "M    2312\n",
       "Name: count, dtype: int64"
      ]
     },
     "execution_count": 9,
     "metadata": {},
     "output_type": "execute_result"
    }
   ],
   "source": [
    "# Group by gender to get count\n",
    "jeans['gender'].value_counts()"
   ]
  },
  {
   "cell_type": "markdown",
   "metadata": {},
   "source": [
    "Data is skewed for Female Jeans"
   ]
  },
  {
   "cell_type": "code",
   "execution_count": 10,
   "metadata": {},
   "outputs": [
    {
     "data": {
      "text/plain": [
       "<Axes: xlabel='gender', ylabel='count'>"
      ]
     },
     "execution_count": 10,
     "metadata": {},
     "output_type": "execute_result"
    },
    {
     "data": {
      "image/png": "[encoded data removed]",
      "text/plain": [
       "<Figure size 640x480 with 1 Axes>"
      ]
     },
     "metadata": {},
     "output_type": "display_data"
    }
   ],
   "source": [
    "sns.countplot(x='gender', data=jeans, palette='Set2')"
   ]
  },
  {
   "cell_type": "code",
   "execution_count": 11,
   "metadata": {},
   "outputs": [
    {
     "name": "stderr",
     "output_type": "stream",
     "text": [
      "/var/folders/1n/jx1cq0bx301bmmtgw78690fm0000gn/T/ipykernel_22088/3486146208.py:3: SettingWithCopyWarning: \n",
      "A value is trying to be set on a copy of a slice from a DataFrame\n",
      "\n",
      "See the caveats in the documentation: https://pandas.pydata.org/pandas-docs/stable/user_guide/indexing.html#returning-a-view-versus-a-copy\n",
      "  required_columns.dropna(inplace=True)\n"
     ]
    }
   ],
   "source": [
    "# Lets do a K-Means clusstering on the data where the fit is the target\n",
    "required_columns = jeans[['waist','gender','hip','bottom_opening','thigh','rise_value','fit']]\n",
    "required_columns.dropna(inplace=True)"
   ]
  },
  {
   "cell_type": "code",
   "execution_count": 12,
   "metadata": {},
   "outputs": [
    {
     "data": {
      "text/plain": [
       "(10412, 7)"
      ]
     },
     "execution_count": 12,
     "metadata": {},
     "output_type": "execute_result"
    }
   ],
   "source": [
    "required_columns.shape"
   ]
  },
  {
   "cell_type": "code",
   "execution_count": 13,
   "metadata": {},
   "outputs": [],
   "source": [
    "required_womens_jeans = required_columns[required_columns['gender']=='W']\n",
    "# add size restriction for waist below 26 and above 34\n",
    "required_womens_jeans = required_womens_jeans[(required_womens_jeans['waist']>=26) & (required_womens_jeans['waist']<=34)]\n",
    "\n",
    "required_womens_jeans.shape\n",
    "\n",
    "X = required_womens_jeans.drop(['fit','gender'], axis=1)\n",
    "y = required_womens_jeans['fit']"
   ]
  },
  {
   "cell_type": "code",
   "execution_count": 14,
   "metadata": {},
   "outputs": [
    {
     "name": "stdout",
     "output_type": "stream",
     "text": [
      "(8088, 5) (8088,)\n"
     ]
    }
   ],
   "source": [
    "print(X.shape,y.shape)"
   ]
  },
  {
   "cell_type": "code",
   "execution_count": 15,
   "metadata": {},
   "outputs": [],
   "source": [
    "from sklearn.model_selection import train_test_split\n",
    "\n",
    "X_train, X_test, y_train, y_test = train_test_split(X,y,test_size=0.3, random_state=42)"
   ]
  },
  {
   "cell_type": "code",
   "execution_count": 16,
   "metadata": {},
   "outputs": [],
   "source": [
    "# apply scaling to the data\n",
    "from sklearn.preprocessing import MinMaxScaler\n",
    "scaler = MinMaxScaler()\n",
    "X_train = scaler.fit_transform(X_train)\n",
    "X_test = scaler.transform(X_test)"
   ]
  },
  {
   "cell_type": "markdown",
   "metadata": {},
   "source": [
    "## KNeighbors Classifier"
   ]
  },
  {
   "cell_type": "code",
   "execution_count": 17,
   "metadata": {},
   "outputs": [
    {
     "name": "stdout",
     "output_type": "stream",
     "text": [
      "Accuracy of K-NN classifier on training set: 0.78\n",
      "Accuracy of K-NN classifier on test set: 0.71\n"
     ]
    }
   ],
   "source": [
    "from sklearn.neighbors import KNeighborsClassifier\n",
    "\n",
    "knn = KNeighborsClassifier()\n",
    "knn.fit(X_train, y_train)\n",
    "print(f'Accuracy of K-NN classifier on training set: {knn.score(X_train, y_train):.2f}')\n",
    "print(f'Accuracy of K-NN classifier on test set: {knn.score(X_test, y_test):.2f}')"
   ]
  },
  {
   "cell_type": "markdown",
   "metadata": {},
   "source": [
    "## Support Vector Classifier"
   ]
  },
  {
   "cell_type": "code",
   "execution_count": 18,
   "metadata": {},
   "outputs": [
    {
     "name": "stdout",
     "output_type": "stream",
     "text": [
      "Accuracy of SVM classifier on training set: 0.75\n",
      "Accuracy of SVM classifier on test set: 0.75\n"
     ]
    }
   ],
   "source": [
    "from sklearn.svm import SVC\n",
    "\n",
    "svm = SVC()\n",
    "svm.fit(X_train, y_train)\n",
    "print(f'Accuracy of SVM classifier on training set: {svm.score(X_train, y_train):.2f}')\n",
    "print(f'Accuracy of SVM classifier on test set: {svm.score(X_test, y_test):.2f}')"
   ]
  },
  {
   "cell_type": "markdown",
   "metadata": {},
   "source": [
    "## Gaussian Naive Bayes"
   ]
  },
  {
   "cell_type": "code",
   "execution_count": 19,
   "metadata": {},
   "outputs": [
    {
     "name": "stdout",
     "output_type": "stream",
     "text": [
      "Accuracy of GNB classifier on training set: 0.65\n",
      "Accuracy of GNB classifier on test set: 0.67\n"
     ]
    }
   ],
   "source": [
    "from sklearn.naive_bayes import GaussianNB\n",
    "\n",
    "gnb = GaussianNB()\n",
    "gnb.fit(X_train, y_train)\n",
    "print(f'Accuracy of GNB classifier on training set: {gnb.score(X_train, y_train):.2f}')\n",
    "print(f'Accuracy of GNB classifier on test set: {gnb.score(X_test, y_test):.2f}')"
   ]
  },
  {
   "cell_type": "markdown",
   "metadata": {},
   "source": [
    "## Logistic Regression"
   ]
  },
  {
   "cell_type": "code",
   "execution_count": 20,
   "metadata": {},
   "outputs": [
    {
     "name": "stdout",
     "output_type": "stream",
     "text": [
      "Accuracy of Logistic regression classifier on training set: 0.71\n",
      "Accuracy of Logistic regression classifier on test set: 0.72\n"
     ]
    }
   ],
   "source": [
    "from sklearn.linear_model import LogisticRegression\n",
    "\n",
    "logreg = LogisticRegression(max_iter=10000)\n",
    "logreg.fit(X_train, y_train)\n",
    "print(f'Accuracy of Logistic regression classifier on training set: {logreg.score(X_train, y_train):.2f}')\n",
    "print(f'Accuracy of Logistic regression classifier on test set: {logreg.score(X_test, y_test):.2f}')"
   ]
  },
  {
   "cell_type": "markdown",
   "metadata": {},
   "source": [
    "## Decision Tree"
   ]
  },
  {
   "cell_type": "code",
   "execution_count": 21,
   "metadata": {},
   "outputs": [
    {
     "name": "stdout",
     "output_type": "stream",
     "text": [
      "Accuracy of Decision Tree classifier on training set: 1.00\n",
      "Accuracy of Decision Tree classifier on test set: 0.65\n"
     ]
    }
   ],
   "source": [
    "from sklearn.tree import DecisionTreeClassifier\n",
    "\n",
    "clf = DecisionTreeClassifier()\n",
    "\n",
    "clf.fit(X_train, y_train)\n",
    "print(f'Accuracy of Decision Tree classifier on training set: {clf.score(X_train, y_train):.2f}')\n",
    "print(f'Accuracy of Decision Tree classifier on test set: {clf.score(X_test, y_test):.2f}')"
   ]
  },
  {
   "cell_type": "markdown",
   "metadata": {},
   "source": [
    "## Linear Discriminant Analysis"
   ]
  },
  {
   "cell_type": "code",
   "execution_count": 22,
   "metadata": {},
   "outputs": [
    {
     "name": "stdout",
     "output_type": "stream",
     "text": [
      "Accuracy of LDA classifier on training set: 0.74\n",
      "Accuracy of LDA classifier on test set: 0.75\n"
     ]
    }
   ],
   "source": [
    "from sklearn.discriminant_analysis import LinearDiscriminantAnalysis\n",
    "\n",
    "lda = LinearDiscriminantAnalysis()\n",
    "lda.fit(X_train, y_train)\n",
    "print(f'Accuracy of LDA classifier on training set: {lda.score(X_train, y_train):.2f}')\n",
    "print(f'Accuracy of LDA classifier on test set: {lda.score(X_test, y_test):.2f}')"
   ]
  }
 ],
 "metadata": {
  "kernelspec": {
   "display_name": "env",
   "language": "python",
   "name": "python3"
  },
  "language_info": {
   "codemirror_mode": {
    "name": "ipython",
    "version": 3
   },
   "file_extension": ".py",
   "mimetype": "text/x-python",
   "name": "python",
   "nbconvert_exporter": "python",
   "pygments_lexer": "ipython3",
   "version": "3.11.3"
  }
 },
 "nbformat": 4,
 "nbformat_minor": 2
}
